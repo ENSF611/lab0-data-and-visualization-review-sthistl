{
 "cells": [
  {
   "cell_type": "markdown",
   "id": "3973c150",
   "metadata": {},
   "source": [
    "# Lab-1 Set-up\n",
    "\n",
    "## Python Packages"
   ]
  },
  {
   "cell_type": "code",
   "execution_count": 2,
   "id": "6973d4f5",
   "metadata": {},
   "outputs": [
    {
     "name": "stdout",
     "output_type": "stream",
     "text": [
      "Python version: 3.8.13 (default, Mar 28 2022, 06:13:39) \n",
      "[Clang 12.0.0 ]\n",
      "pandas version: 1.5.0\n",
      "matplotlib version: 3.5.2\n",
      "NumPy version: 1.21.5\n",
      "SciPy version: 1.7.3\n",
      "IPython version: 8.3.0\n",
      "scikit-learn version: 1.1.1\n",
      "yellowbrick version: 1.5\n"
     ]
    }
   ],
   "source": [
    "import sys\n",
    "print(\"Python version:\", sys.version)\n",
    "import pandas as pd\n",
    "print(\"pandas version:\", pd.__version__)\n",
    "import matplotlib\n",
    "print(\"matplotlib version:\", matplotlib.__version__)\n",
    "import numpy as np\n",
    "print(\"NumPy version:\", np.__version__)\n",
    "import scipy as sp\n",
    "print(\"SciPy version:\", sp.__version__)\n",
    "import IPython\n",
    "print(\"IPython version:\", IPython.__version__)\n",
    "import sklearn\n",
    "print(\"scikit-learn version:\", sklearn.__version__)\n",
    "import yellowbrick\n",
    "print(\"yellowbrick version:\", yellowbrick.__version__)"
   ]
  },
  {
   "cell_type": "markdown",
   "id": "0ea95aff",
   "metadata": {},
   "source": [
    "## Conda Environment \n",
    "Course-specific conda environment created via terminal:\n",
    "* $ conda create --name e611 python=3.8"
   ]
  },
  {
   "cell_type": "code",
   "execution_count": 5,
   "id": "de44251e",
   "metadata": {},
   "outputs": [
    {
     "name": "stdout",
     "output_type": "stream",
     "text": [
      "# conda environments:\r\n",
      "#\r\n",
      "base                     /Users/uoc/opt/anaconda3\r\n",
      "e611                  *  /Users/uoc/opt/anaconda3/envs/e611\r\n",
      "ensf592                  /Users/uoc/opt/anaconda3/envs/ensf592\r\n",
      "\r\n"
     ]
    }
   ],
   "source": [
    "#listing conda environments\n",
    "!conda env list"
   ]
  },
  {
   "cell_type": "code",
   "execution_count": null,
   "id": "bb61ba77",
   "metadata": {},
   "outputs": [],
   "source": []
  }
 ],
 "metadata": {
  "kernelspec": {
   "display_name": "Python 3 (ipykernel)",
   "language": "python",
   "name": "python3"
  },
  "language_info": {
   "codemirror_mode": {
    "name": "ipython",
    "version": 3
   },
   "file_extension": ".py",
   "mimetype": "text/x-python",
   "name": "python",
   "nbconvert_exporter": "python",
   "pygments_lexer": "ipython3",
   "version": "3.8.13"
  }
 },
 "nbformat": 4,
 "nbformat_minor": 5
}
